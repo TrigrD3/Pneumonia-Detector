{
  "cells": [
    {
      "cell_type": "code",
      "execution_count": 1,
      "metadata": {
        "id": "6oaCDoQBLK4J"
      },
      "outputs": [],
      "source": [
        "import os\n",
        "import zipfile\n",
        "import matplotlib.pyplot as plt\n",
        "import tensorflow as tf\n",
        "from tensorflow.keras import layers\n",
        "from tensorflow.keras import Model\n",
        "from tensorflow.keras.optimizers import RMSprop\n",
        "from tensorflow.keras.preprocessing.image import ImageDataGenerator\n",
        "from tensorflow.keras.preprocessing.image import img_to_array, load_img"
      ]
    },
    {
      "cell_type": "code",
      "execution_count": 2,
      "metadata": {
        "colab": {
          "base_uri": "https://localhost:8080/",
          "height": 36
        },
        "id": "eMzewPq1aTLO",
        "outputId": "d4b814f4-bbfa-42d4-890a-52a128981123"
      },
      "outputs": [
        {
          "output_type": "execute_result",
          "data": {
            "text/plain": [
              "'/device:GPU:0'"
            ],
            "application/vnd.google.colaboratory.intrinsic+json": {
              "type": "string"
            }
          },
          "metadata": {},
          "execution_count": 2
        }
      ],
      "source": [
        "tf.test.gpu_device_name()"
      ]
    },
    {
      "cell_type": "code",
      "execution_count": null,
      "metadata": {
        "colab": {
          "base_uri": "https://localhost:8080/"
        },
        "id": "Gkygl63CaXtH",
        "outputId": "4d2a0393-1f60-490d-fa2e-2bc817f628a9"
      },
      "outputs": [
        {
          "name": "stdout",
          "output_type": "stream",
          "text": [
            "Collecting split-folders\n",
            "  Downloading split_folders-0.5.1-py3-none-any.whl (8.4 kB)\n",
            "Installing collected packages: split-folders\n",
            "Successfully installed split-folders-0.5.1\n"
          ]
        }
      ],
      "source": [
        "# install library untuk split datasetnya menjadi validation set dan training set\n",
        "# pip install split-folders"
      ]
    },
    {
      "cell_type": "code",
      "execution_count": null,
      "metadata": {
        "id": "ScT6vu9GaYS4"
      },
      "outputs": [],
      "source": [
        "# import splitfolders"
      ]
    },
    {
      "cell_type": "code",
      "execution_count": 3,
      "metadata": {
        "colab": {
          "base_uri": "https://localhost:8080/"
        },
        "id": "mcXtapVCaa4E",
        "outputId": "1f60d692-f34c-4dee-9979-5e133622cc58"
      },
      "outputs": [
        {
          "output_type": "stream",
          "name": "stdout",
          "text": [
            "Mounted at /content/drive\n"
          ]
        }
      ],
      "source": [
        "# mount gdrive\n",
        "\n",
        "from google.colab import drive\n",
        "drive.mount('/content/drive')"
      ]
    },
    {
      "cell_type": "code",
      "execution_count": null,
      "metadata": {
        "colab": {
          "base_uri": "https://localhost:8080/"
        },
        "id": "LbGA8FM_a3x9",
        "outputId": "af5c1e10-b3a9-4e30-f7c7-4cd40181e4a7"
      },
      "outputs": [
        {
          "name": "stderr",
          "output_type": "stream",
          "text": [
            "Copying files: 12059 files [05:29, 36.56 files/s] \n"
          ]
        }
      ],
      "source": [
        "# Split into training and validation set\n",
        "\n",
        "# src_dir = '/content/drive/My Drive/Capstone'\n",
        "# output_dir = '/content/drive/My Drive/Capstone1'\n",
        "\n",
        "# splitfolders.ratio(src_dir, output=output_dir, seed=42, ratio=(.8, .2), group_prefix=None)"
      ]
    },
    {
      "cell_type": "code",
      "execution_count": 4,
      "metadata": {
        "colab": {
          "base_uri": "https://localhost:8080/"
        },
        "id": "ICCbpulzpv8r",
        "outputId": "86b9dde2-c7e9-40ae-ad7a-e38211e625a6"
      },
      "outputs": [
        {
          "output_type": "stream",
          "name": "stdout",
          "text": [
            "There are 2423 images of normal lungs for training.\n",
            "\n",
            "There are 2400 images of covid pneumonia for training.\n",
            "\n",
            "There are 2412 images of bacterial pneumonia for training.\n",
            "\n",
            "There are 2411 images of viral pneumonia for training.\n",
            "\n",
            "There are 606 images of normal lungs for validation.\n",
            "\n",
            "There are 600 images of covid pneumonia for validation.\n",
            "\n",
            "There are 604 images of bacterial pneumonia for validation.\n",
            "\n",
            "There are 603 images of viral pneumonia for validation.\n",
            "\n"
          ]
        }
      ],
      "source": [
        "# Define the training and validation base directories\n",
        "train_dir = '/content/drive/My Drive/Capstone1/train'\n",
        "validation_dir = '/content/drive/My Drive/Capstone1/val'\n",
        "\n",
        "# Directory with training normal chest x-ray\n",
        "train_normal_dir = os.path.join(train_dir, 'normal')\n",
        "# Directory with training covid pneumonia chest x-ray\n",
        "train_covid_dir = os.path.join(train_dir,'covid')\n",
        "# Directory with training bacterial pneumonia chest x-ray\n",
        "train_bacterial_dir = os.path.join(train_dir,'bacterial')\n",
        "# Directory with training viral pneumonia chest x-ray\n",
        "train_viral_dir = os.path.join(train_dir,'viral')\n",
        "\n",
        "# Directory with validation normal chest x-ray\n",
        "val_normal_dir = os.path.join(validation_dir, 'normal')\n",
        "# Directory with validation covid pneumonia chest x-ray\n",
        "val_covid_dir = os.path.join(validation_dir, 'covid')\n",
        "# Directory with validation bacterial pneumonia chest x-ray\n",
        "val_bacterial_dir = os.path.join(validation_dir, 'bacterial')\n",
        "# Directory with validation viral pneumonia chest x-ray\n",
        "val_viral_dir = os.path.join(validation_dir, 'viral')\n",
        "\n",
        "# Check the number of images for each class and set\n",
        "print(f\"There are {len(os.listdir(train_normal_dir))} images of normal lungs for training.\\n\")\n",
        "print(f\"There are {len(os.listdir(train_covid_dir))} images of covid pneumonia for training.\\n\")\n",
        "print(f\"There are {len(os.listdir(train_bacterial_dir))} images of bacterial pneumonia for training.\\n\")\n",
        "print(f\"There are {len(os.listdir(train_viral_dir))} images of viral pneumonia for training.\\n\")\n",
        "\n",
        "print(f\"There are {len(os.listdir(val_normal_dir))} images of normal lungs for validation.\\n\")\n",
        "print(f\"There are {len(os.listdir(val_covid_dir))} images of covid pneumonia for validation.\\n\")\n",
        "print(f\"There are {len(os.listdir(val_bacterial_dir))} images of bacterial pneumonia for validation.\\n\")\n",
        "print(f\"There are {len(os.listdir(val_viral_dir))} images of viral pneumonia for validation.\\n\")"
      ]
    },
    {
      "cell_type": "code",
      "execution_count": 5,
      "metadata": {
        "colab": {
          "base_uri": "https://localhost:8080/",
          "height": 575
        },
        "id": "zOYqpo3Brwgv",
        "outputId": "9ca5a30f-7d2b-45ed-d5c3-a20814f437f5"
      },
      "outputs": [
        {
          "output_type": "stream",
          "name": "stdout",
          "text": [
            "Sample of normal lungs image:\n"
          ]
        },
        {
          "output_type": "display_data",
          "data": {
            "text/plain": [
              "<Figure size 432x288 with 1 Axes>"
            ],
            "image/png": "[encoded data removed]"
          },
          "metadata": {
            "needs_background": "light"
          }
        },
        {
          "output_type": "stream",
          "name": "stdout",
          "text": [
            "\n",
            "Sample of covid pneumonia image:\n"
          ]
        },
        {
          "output_type": "display_data",
          "data": {
            "text/plain": [
              "<Figure size 432x288 with 1 Axes>"
            ],
            "image/png": "[encoded data removed]"
          },
          "metadata": {
            "needs_background": "light"
          }
        }
      ],
      "source": [
        "print(\"Sample of normal lungs image:\")\n",
        "plt.imshow(load_img(f\"{os.path.join(train_normal_dir, os.listdir(train_normal_dir)[0])}\"))\n",
        "plt.show()\n",
        "\n",
        "print(\"\\nSample of covid pneumonia image:\")\n",
        "plt.imshow(load_img(f\"{os.path.join(train_covid_dir, os.listdir(train_covid_dir)[0])}\"))\n",
        "plt.show()"
      ]
    },
    {
      "cell_type": "code",
      "execution_count": 6,
      "metadata": {
        "colab": {
          "base_uri": "https://localhost:8080/"
        },
        "id": "lrvPqQs4sAoZ",
        "outputId": "0f1a8d08-5e76-47b3-a10f-c968f1103d5a"
      },
      "outputs": [
        {
          "output_type": "stream",
          "name": "stdout",
          "text": [
            "Each image has shape: (299, 299, 3)\n"
          ]
        }
      ],
      "source": [
        "# Load the first example of a normal lungs\n",
        "sample_image  = load_img(f\"{os.path.join(train_normal_dir, os.listdir(train_normal_dir)[0])}\")\n",
        "\n",
        "# Convert the image into its numpy array representation\n",
        "sample_array = img_to_array(sample_image)\n",
        "\n",
        "print(f\"Each image has shape: {sample_array.shape}\")"
      ]
    },
    {
      "cell_type": "code",
      "execution_count": 14,
      "metadata": {
        "id": "_pmmqOvcsiR8"
      },
      "outputs": [],
      "source": [
        "# GRADED FUNCTION: train_val_generators\n",
        "def train_val_generators(TRAINING_DIR, VALIDATION_DIR):\n",
        "  ### START CODE HERE\n",
        "\n",
        "  # Instantiate the ImageDataGenerator class \n",
        "  # Don't forget to normalize pixel values and set arguments to augment the images \n",
        "  train_datagen = ImageDataGenerator(rescale = 1./255.,\n",
        "                                   rotation_range = 40,\n",
        "                                   width_shift_range = 0.2,\n",
        "                                   height_shift_range = 0.2,\n",
        "                                   shear_range = 0.2,\n",
        "                                   zoom_range = 0.2,\n",
        "                                   horizontal_flip = True,\n",
        "                                   fill_mode='nearest')\n",
        "\n",
        "  # Pass in the appropriate arguments to the flow_from_directory method\n",
        "  train_generator = train_datagen.flow_from_directory(directory=TRAINING_DIR,\n",
        "                                                      batch_size=32, \n",
        "                                                      class_mode='categorical',\n",
        "                                                      target_size=(299, 299))\n",
        "\n",
        "  # Instantiate the ImageDataGenerator class (don't forget to set the rescale argument)\n",
        "  # Remember that validation data should not be augmented\n",
        "  validation_datagen = ImageDataGenerator( rescale = 1.0/255. )\n",
        "\n",
        "  # Pass in the appropriate arguments to the flow_from_directory method\n",
        "  validation_generator = validation_datagen.flow_from_directory(directory=VALIDATION_DIR,\n",
        "                                                                batch_size=32, \n",
        "                                                                class_mode='categorical',\n",
        "                                                                target_size=(299, 299))\n",
        "  ### END CODE HERE\n",
        "  return train_generator, validation_generator"
      ]
    },
    {
      "cell_type": "code",
      "execution_count": 15,
      "metadata": {
        "colab": {
          "base_uri": "https://localhost:8080/"
        },
        "id": "1-moKPytsrjG",
        "outputId": "127fba6d-1b95-41ff-b064-4367ed98be52"
      },
      "outputs": [
        {
          "output_type": "stream",
          "name": "stdout",
          "text": [
            "Found 9646 images belonging to 4 classes.\n",
            "Found 2413 images belonging to 4 classes.\n"
          ]
        }
      ],
      "source": [
        "# Test your generators\n",
        "train_generator, validation_generator = train_val_generators(train_dir, validation_dir)"
      ]
    },
    {
      "cell_type": "code",
      "execution_count": 16,
      "metadata": {
        "id": "QviylN8uuHs5"
      },
      "outputs": [],
      "source": [
        "from tensorflow.keras.applications.xception import Xception"
      ]
    },
    {
      "cell_type": "code",
      "execution_count": 27,
      "metadata": {
        "colab": {
          "base_uri": "https://localhost:8080/"
        },
        "id": "1iue9EqUGqyc",
        "outputId": "1330aae0-f539-40f0-f4a2-83b519735017"
      },
      "outputs": [
        {
          "output_type": "stream",
          "name": "stdout",
          "text": [
            "<keras.engine.input_layer.InputLayer object at 0x7f5cb4042090>\n",
            "<keras.layers.convolutional.Conv2D object at 0x7f5cb42c06d0>\n",
            "<keras.layers.normalization.batch_normalization.BatchNormalization object at 0x7f5ccd6a5f90>\n",
            "<keras.layers.core.activation.Activation object at 0x7f5cb42f36d0>\n",
            "<keras.layers.convolutional.Conv2D object at 0x7f5cb4211a50>\n",
            "<keras.layers.normalization.batch_normalization.BatchNormalization object at 0x7f5d6832a7d0>\n",
            "<keras.layers.core.activation.Activation object at 0x7f5cb42ed8d0>\n",
            "<keras.layers.convolutional.SeparableConv2D object at 0x7f5d6832a910>\n",
            "<keras.layers.normalization.batch_normalization.BatchNormalization object at 0x7f5cb421a510>\n",
            "<keras.layers.core.activation.Activation object at 0x7f5cb5a36810>\n",
            "<keras.layers.convolutional.SeparableConv2D object at 0x7f5cb5a3b750>\n",
            "<keras.layers.normalization.batch_normalization.BatchNormalization object at 0x7f5cb5a3bd50>\n",
            "<keras.layers.convolutional.Conv2D object at 0x7f5cb4209410>\n",
            "<keras.layers.pooling.MaxPooling2D object at 0x7f5cb5a3b890>\n",
            "<keras.layers.normalization.batch_normalization.BatchNormalization object at 0x7f5d6832f590>\n",
            "<keras.layers.merge.Add object at 0x7f5cb5a0df10>\n",
            "<keras.layers.core.activation.Activation object at 0x7f5cb5a36dd0>\n",
            "<keras.layers.convolutional.SeparableConv2D object at 0x7f5cb5a377d0>\n",
            "<keras.layers.normalization.batch_normalization.BatchNormalization object at 0x7f5cb5a3c150>\n",
            "<keras.layers.core.activation.Activation object at 0x7f5cb59c85d0>\n",
            "<keras.layers.convolutional.SeparableConv2D object at 0x7f5cb59d6750>\n",
            "<keras.layers.normalization.batch_normalization.BatchNormalization object at 0x7f5cb5a37ed0>\n",
            "<keras.layers.convolutional.Conv2D object at 0x7f5cb5a43890>\n",
            "<keras.layers.pooling.MaxPooling2D object at 0x7f5cb59df290>\n",
            "<keras.layers.normalization.batch_normalization.BatchNormalization object at 0x7f5cb5a31710>\n",
            "<keras.layers.merge.Add object at 0x7f5cb59e4910>\n",
            "<keras.layers.core.activation.Activation object at 0x7f5cb59f9350>\n",
            "<keras.layers.convolutional.SeparableConv2D object at 0x7f5cb59f98d0>\n",
            "<keras.layers.normalization.batch_normalization.BatchNormalization object at 0x7f5cb59ea910>\n",
            "<keras.layers.core.activation.Activation object at 0x7f5cb5a02e90>\n",
            "<keras.layers.convolutional.SeparableConv2D object at 0x7f5cb5988e90>\n",
            "<keras.layers.normalization.batch_normalization.BatchNormalization object at 0x7f5cb599d610>\n",
            "<keras.layers.convolutional.Conv2D object at 0x7f5cb59ead90>\n",
            "<keras.layers.pooling.MaxPooling2D object at 0x7f5cb59924d0>\n",
            "<keras.layers.normalization.batch_normalization.BatchNormalization object at 0x7f5cb59f9e90>\n",
            "<keras.layers.merge.Add object at 0x7f5cb599da10>\n",
            "<keras.layers.core.activation.Activation object at 0x7f5cb59f4b50>\n",
            "<keras.layers.convolutional.SeparableConv2D object at 0x7f5cb59b1090>\n",
            "<keras.layers.normalization.batch_normalization.BatchNormalization object at 0x7f5cb42f5a50>\n",
            "<keras.layers.core.activation.Activation object at 0x7f5cb59b17d0>\n",
            "<keras.layers.convolutional.SeparableConv2D object at 0x7f5cb59a2210>\n",
            "<keras.layers.normalization.batch_normalization.BatchNormalization object at 0x7f5cb599d790>\n",
            "<keras.layers.core.activation.Activation object at 0x7f5cb5988350>\n",
            "<keras.layers.convolutional.SeparableConv2D object at 0x7f5cb59a2090>\n",
            "<keras.layers.normalization.batch_normalization.BatchNormalization object at 0x7f5cb59d6910>\n",
            "<keras.layers.merge.Add object at 0x7f5cb59a27d0>\n",
            "<keras.layers.core.activation.Activation object at 0x7f5cb59eacd0>\n",
            "<keras.layers.convolutional.SeparableConv2D object at 0x7f5cb5a0f650>\n",
            "<keras.layers.normalization.batch_normalization.BatchNormalization object at 0x7f5ccd37afd0>\n",
            "<keras.layers.core.activation.Activation object at 0x7f5cb416d810>\n",
            "<keras.layers.convolutional.SeparableConv2D object at 0x7f5cb599d950>\n",
            "<keras.layers.normalization.batch_normalization.BatchNormalization object at 0x7f5cb5a10a90>\n",
            "<keras.layers.core.activation.Activation object at 0x7f5cb5989c90>\n",
            "<keras.layers.convolutional.SeparableConv2D object at 0x7f5cb5a10b50>\n",
            "<keras.layers.normalization.batch_normalization.BatchNormalization object at 0x7f5d6832a150>\n",
            "<keras.layers.merge.Add object at 0x7f5cb594b7d0>\n",
            "<keras.layers.core.activation.Activation object at 0x7f5cb59df150>\n",
            "<keras.layers.convolutional.SeparableConv2D object at 0x7f5cb5953050>\n",
            "<keras.layers.normalization.batch_normalization.BatchNormalization object at 0x7f5cb59999d0>\n",
            "<keras.layers.core.activation.Activation object at 0x7f5d68321650>\n",
            "<keras.layers.convolutional.SeparableConv2D object at 0x7f5cb595fa50>\n",
            "<keras.layers.normalization.batch_normalization.BatchNormalization object at 0x7f5cb59753d0>\n",
            "<keras.layers.core.activation.Activation object at 0x7f5cb5964410>\n",
            "<keras.layers.convolutional.SeparableConv2D object at 0x7f5cb59c24d0>\n",
            "<keras.layers.normalization.batch_normalization.BatchNormalization object at 0x7f5cb5980fd0>\n",
            "<keras.layers.merge.Add object at 0x7f5cb5950250>\n",
            "<keras.layers.core.activation.Activation object at 0x7f5cb594b410>\n",
            "<keras.layers.convolutional.SeparableConv2D object at 0x7f5cb409ebd0>\n",
            "<keras.layers.normalization.batch_normalization.BatchNormalization object at 0x7f5cb591dd50>\n",
            "<keras.layers.core.activation.Activation object at 0x7f5cb591de90>\n",
            "<keras.layers.convolutional.SeparableConv2D object at 0x7f5cb591de50>\n",
            "<keras.layers.normalization.batch_normalization.BatchNormalization object at 0x7f5cb5925090>\n",
            "<keras.layers.core.activation.Activation object at 0x7f5cb5921290>\n",
            "<keras.layers.convolutional.SeparableConv2D object at 0x7f5cb5925390>\n",
            "<keras.layers.normalization.batch_normalization.BatchNormalization object at 0x7f5cb593cd90>\n",
            "<keras.layers.merge.Add object at 0x7f5cb5935350>\n",
            "<keras.layers.core.activation.Activation object at 0x7f5cb5906750>\n",
            "<keras.layers.convolutional.SeparableConv2D object at 0x7f5cb58c9c50>\n",
            "<keras.layers.normalization.batch_normalization.BatchNormalization object at 0x7f5cb58d1d10>\n",
            "<keras.layers.core.activation.Activation object at 0x7f5cb58d1290>\n",
            "<keras.layers.convolutional.SeparableConv2D object at 0x7f5cb58d1f10>\n",
            "<keras.layers.normalization.batch_normalization.BatchNormalization object at 0x7f5cb59270d0>\n",
            "<keras.layers.core.activation.Activation object at 0x7f5cb5927890>\n",
            "<keras.layers.convolutional.SeparableConv2D object at 0x7f5cb5925950>\n",
            "<keras.layers.normalization.batch_normalization.BatchNormalization object at 0x7f5cb59061d0>\n",
            "<keras.layers.merge.Add object at 0x7f5cb5978950>\n",
            "<keras.layers.core.activation.Activation object at 0x7f5cb5938210>\n",
            "<keras.layers.convolutional.SeparableConv2D object at 0x7f5cb594b450>\n",
            "<keras.layers.normalization.batch_normalization.BatchNormalization object at 0x7f5cb4037a90>\n",
            "<keras.layers.core.activation.Activation object at 0x7f5cb59ea490>\n",
            "<keras.layers.convolutional.SeparableConv2D object at 0x7f5cb58da4d0>\n",
            "<keras.layers.normalization.batch_normalization.BatchNormalization object at 0x7f5cb5925a90>\n",
            "<keras.layers.core.activation.Activation object at 0x7f5cb58e5f10>\n",
            "<keras.layers.convolutional.SeparableConv2D object at 0x7f5cb58e5ed0>\n",
            "<keras.layers.normalization.batch_normalization.BatchNormalization object at 0x7f5cb58d0e90>\n",
            "<keras.layers.merge.Add object at 0x7f5cb42fb2d0>\n",
            "<keras.layers.core.activation.Activation object at 0x7f5cb5975690>\n",
            "<keras.layers.convolutional.SeparableConv2D object at 0x7f5cb5901950>\n",
            "<keras.layers.normalization.batch_normalization.BatchNormalization object at 0x7f5cb588e950>\n",
            "<keras.layers.core.activation.Activation object at 0x7f5cb58e9f90>\n",
            "<keras.layers.convolutional.SeparableConv2D object at 0x7f5cb58ff290>\n",
            "<keras.layers.normalization.batch_normalization.BatchNormalization object at 0x7f5cb588ea50>\n",
            "<keras.layers.core.activation.Activation object at 0x7f5cb5893050>\n",
            "<keras.layers.convolutional.SeparableConv2D object at 0x7f5cb58ff8d0>\n",
            "<keras.layers.normalization.batch_normalization.BatchNormalization object at 0x7f5cb58ff950>\n",
            "<keras.layers.merge.Add object at 0x7f5cb58a9710>\n",
            "<keras.layers.core.activation.Activation object at 0x7f5cb58f0190>\n",
            "<keras.layers.convolutional.SeparableConv2D object at 0x7f5cb58c2690>\n",
            "<keras.layers.normalization.batch_normalization.BatchNormalization object at 0x7f5cb584c610>\n",
            "<keras.layers.core.activation.Activation object at 0x7f5cb58c24d0>\n",
            "<keras.layers.convolutional.SeparableConv2D object at 0x7f5cb58a97d0>\n",
            "<keras.layers.normalization.batch_normalization.BatchNormalization object at 0x7f5cb58acad0>\n",
            "<keras.layers.core.activation.Activation object at 0x7f5cb5861850>\n",
            "<keras.layers.convolutional.SeparableConv2D object at 0x7f5cb5852d50>\n",
            "<keras.layers.normalization.batch_normalization.BatchNormalization object at 0x7f5cb5855990>\n",
            "<keras.layers.merge.Add object at 0x7f5cb5996b90>\n",
            "<keras.layers.core.activation.Activation object at 0x7f5cb580b950>\n",
            "<keras.layers.convolutional.SeparableConv2D object at 0x7f5cb580b650>\n",
            "<keras.layers.normalization.batch_normalization.BatchNormalization object at 0x7f5cb5855c50>\n",
            "<keras.layers.core.activation.Activation object at 0x7f5ccc2bbd90>\n",
            "<keras.layers.convolutional.SeparableConv2D object at 0x7f5ccc237ed0>\n",
            "<keras.layers.normalization.batch_normalization.BatchNormalization object at 0x7f5cb493bfd0>\n",
            "<keras.layers.convolutional.Conv2D object at 0x7f5cb5878410>\n",
            "<keras.layers.pooling.MaxPooling2D object at 0x7f5cb48a6d10>\n",
            "<keras.layers.normalization.batch_normalization.BatchNormalization object at 0x7f5cb580b0d0>\n",
            "<keras.layers.merge.Add object at 0x7f5cb4604210>\n",
            "<keras.layers.convolutional.SeparableConv2D object at 0x7f5cb438d9d0>\n",
            "<keras.layers.normalization.batch_normalization.BatchNormalization object at 0x7f5cb43b48d0>\n",
            "<keras.layers.core.activation.Activation object at 0x7f5cb47fb950>\n",
            "<keras.layers.convolutional.SeparableConv2D object at 0x7f5cb42f78d0>\n",
            "<keras.layers.normalization.batch_normalization.BatchNormalization object at 0x7f5cb47fb290>\n",
            "<keras.layers.core.activation.Activation object at 0x7f5cb42f3c10>\n",
            "<keras.layers.core.flatten.Flatten object at 0x7f5cb47f5750>\n",
            "Model: \"xception\"\n",
            "__________________________________________________________________________________________________\n",
            " Layer (type)                   Output Shape         Param #     Connected to                     \n",
            "==================================================================================================\n",
            " input_3 (InputLayer)           [(None, 299, 299, 3  0           []                               \n",
            "                                )]                                                                \n",
            "                                                                                                  \n",
            " block1_conv1 (Conv2D)          (None, 149, 149, 32  864         ['input_3[0][0]']                \n",
            "                                )                                                                 \n",
            "                                                                                                  \n",
            " block1_conv1_bn (BatchNormaliz  (None, 149, 149, 32  128        ['block1_conv1[0][0]']           \n",
            " ation)                         )                                                                 \n",
            "                                                                                                  \n",
            " block1_conv1_act (Activation)  (None, 149, 149, 32  0           ['block1_conv1_bn[0][0]']        \n",
            "                                )                                                                 \n",
            "                                                                                                  \n",
            " block1_conv2 (Conv2D)          (None, 147, 147, 64  18432       ['block1_conv1_act[0][0]']       \n",
            "                                )                                                                 \n",
            "                                                                                                  \n",
            " block1_conv2_bn (BatchNormaliz  (None, 147, 147, 64  256        ['block1_conv2[0][0]']           \n",
            " ation)                         )                                                                 \n",
            "                                                                                                  \n",
            " block1_conv2_act (Activation)  (None, 147, 147, 64  0           ['block1_conv2_bn[0][0]']        \n",
            "                                )                                                                 \n",
            "                                                                                                  \n",
            " block2_sepconv1 (SeparableConv  (None, 147, 147, 12  8768       ['block1_conv2_act[0][0]']       \n",
            " 2D)                            8)                                                                \n",
            "                                                                                                  \n",
            " block2_sepconv1_bn (BatchNorma  (None, 147, 147, 12  512        ['block2_sepconv1[0][0]']        \n",
            " lization)                      8)                                                                \n",
            "                                                                                                  \n",
            " block2_sepconv2_act (Activatio  (None, 147, 147, 12  0          ['block2_sepconv1_bn[0][0]']     \n",
            " n)                             8)                                                                \n",
            "                                                                                                  \n",
            " block2_sepconv2 (SeparableConv  (None, 147, 147, 12  17536      ['block2_sepconv2_act[0][0]']    \n",
            " 2D)                            8)                                                                \n",
            "                                                                                                  \n",
            " block2_sepconv2_bn (BatchNorma  (None, 147, 147, 12  512        ['block2_sepconv2[0][0]']        \n",
            " lization)                      8)                                                                \n",
            "                                                                                                  \n",
            " conv2d_8 (Conv2D)              (None, 74, 74, 128)  8192        ['block1_conv2_act[0][0]']       \n",
            "                                                                                                  \n",
            " block2_pool (MaxPooling2D)     (None, 74, 74, 128)  0           ['block2_sepconv2_bn[0][0]']     \n",
            "                                                                                                  \n",
            " batch_normalization_8 (BatchNo  (None, 74, 74, 128)  512        ['conv2d_8[0][0]']               \n",
            " rmalization)                                                                                     \n",
            "                                                                                                  \n",
            " add_24 (Add)                   (None, 74, 74, 128)  0           ['block2_pool[0][0]',            \n",
            "                                                                  'batch_normalization_8[0][0]']  \n",
            "                                                                                                  \n",
            " block3_sepconv1_act (Activatio  (None, 74, 74, 128)  0          ['add_24[0][0]']                 \n",
            " n)                                                                                               \n",
            "                                                                                                  \n",
            " block3_sepconv1 (SeparableConv  (None, 74, 74, 256)  33920      ['block3_sepconv1_act[0][0]']    \n",
            " 2D)                                                                                              \n",
            "                                                                                                  \n",
            " block3_sepconv1_bn (BatchNorma  (None, 74, 74, 256)  1024       ['block3_sepconv1[0][0]']        \n",
            " lization)                                                                                        \n",
            "                                                                                                  \n",
            " block3_sepconv2_act (Activatio  (None, 74, 74, 256)  0          ['block3_sepconv1_bn[0][0]']     \n",
            " n)                                                                                               \n",
            "                                                                                                  \n",
            " block3_sepconv2 (SeparableConv  (None, 74, 74, 256)  67840      ['block3_sepconv2_act[0][0]']    \n",
            " 2D)                                                                                              \n",
            "                                                                                                  \n",
            " block3_sepconv2_bn (BatchNorma  (None, 74, 74, 256)  1024       ['block3_sepconv2[0][0]']        \n",
            " lization)                                                                                        \n",
            "                                                                                                  \n",
            " conv2d_9 (Conv2D)              (None, 37, 37, 256)  32768       ['add_24[0][0]']                 \n",
            "                                                                                                  \n",
            " block3_pool (MaxPooling2D)     (None, 37, 37, 256)  0           ['block3_sepconv2_bn[0][0]']     \n",
            "                                                                                                  \n",
            " batch_normalization_9 (BatchNo  (None, 37, 37, 256)  1024       ['conv2d_9[0][0]']               \n",
            " rmalization)                                                                                     \n",
            "                                                                                                  \n",
            " add_25 (Add)                   (None, 37, 37, 256)  0           ['block3_pool[0][0]',            \n",
            "                                                                  'batch_normalization_9[0][0]']  \n",
            "                                                                                                  \n",
            " block4_sepconv1_act (Activatio  (None, 37, 37, 256)  0          ['add_25[0][0]']                 \n",
            " n)                                                                                               \n",
            "                                                                                                  \n",
            " block4_sepconv1 (SeparableConv  (None, 37, 37, 728)  188672     ['block4_sepconv1_act[0][0]']    \n",
            " 2D)                                                                                              \n",
            "                                                                                                  \n",
            " block4_sepconv1_bn (BatchNorma  (None, 37, 37, 728)  2912       ['block4_sepconv1[0][0]']        \n",
            " lization)                                                                                        \n",
            "                                                                                                  \n",
            " block4_sepconv2_act (Activatio  (None, 37, 37, 728)  0          ['block4_sepconv1_bn[0][0]']     \n",
            " n)                                                                                               \n",
            "                                                                                                  \n",
            " block4_sepconv2 (SeparableConv  (None, 37, 37, 728)  536536     ['block4_sepconv2_act[0][0]']    \n",
            " 2D)                                                                                              \n",
            "                                                                                                  \n",
            " block4_sepconv2_bn (BatchNorma  (None, 37, 37, 728)  2912       ['block4_sepconv2[0][0]']        \n",
            " lization)                                                                                        \n",
            "                                                                                                  \n",
            " conv2d_10 (Conv2D)             (None, 19, 19, 728)  186368      ['add_25[0][0]']                 \n",
            "                                                                                                  \n",
            " block4_pool (MaxPooling2D)     (None, 19, 19, 728)  0           ['block4_sepconv2_bn[0][0]']     \n",
            "                                                                                                  \n",
            " batch_normalization_10 (BatchN  (None, 19, 19, 728)  2912       ['conv2d_10[0][0]']              \n",
            " ormalization)                                                                                    \n",
            "                                                                                                  \n",
            " add_26 (Add)                   (None, 19, 19, 728)  0           ['block4_pool[0][0]',            \n",
            "                                                                  'batch_normalization_10[0][0]'] \n",
            "                                                                                                  \n",
            " block5_sepconv1_act (Activatio  (None, 19, 19, 728)  0          ['add_26[0][0]']                 \n",
            " n)                                                                                               \n",
            "                                                                                                  \n",
            " block5_sepconv1 (SeparableConv  (None, 19, 19, 728)  536536     ['block5_sepconv1_act[0][0]']    \n",
            " 2D)                                                                                              \n",
            "                                                                                                  \n",
            " block5_sepconv1_bn (BatchNorma  (None, 19, 19, 728)  2912       ['block5_sepconv1[0][0]']        \n",
            " lization)                                                                                        \n",
            "                                                                                                  \n",
            " block5_sepconv2_act (Activatio  (None, 19, 19, 728)  0          ['block5_sepconv1_bn[0][0]']     \n",
            " n)                                                                                               \n",
            "                                                                                                  \n",
            " block5_sepconv2 (SeparableConv  (None, 19, 19, 728)  536536     ['block5_sepconv2_act[0][0]']    \n",
            " 2D)                                                                                              \n",
            "                                                                                                  \n",
            " block5_sepconv2_bn (BatchNorma  (None, 19, 19, 728)  2912       ['block5_sepconv2[0][0]']        \n",
            " lization)                                                                                        \n",
            "                                                                                                  \n",
            " block5_sepconv3_act (Activatio  (None, 19, 19, 728)  0          ['block5_sepconv2_bn[0][0]']     \n",
            " n)                                                                                               \n",
            "                                                                                                  \n",
            " block5_sepconv3 (SeparableConv  (None, 19, 19, 728)  536536     ['block5_sepconv3_act[0][0]']    \n",
            " 2D)                                                                                              \n",
            "                                                                                                  \n",
            " block5_sepconv3_bn (BatchNorma  (None, 19, 19, 728)  2912       ['block5_sepconv3[0][0]']        \n",
            " lization)                                                                                        \n",
            "                                                                                                  \n",
            " add_27 (Add)                   (None, 19, 19, 728)  0           ['block5_sepconv3_bn[0][0]',     \n",
            "                                                                  'add_26[0][0]']                 \n",
            "                                                                                                  \n",
            " block6_sepconv1_act (Activatio  (None, 19, 19, 728)  0          ['add_27[0][0]']                 \n",
            " n)                                                                                               \n",
            "                                                                                                  \n",
            " block6_sepconv1 (SeparableConv  (None, 19, 19, 728)  536536     ['block6_sepconv1_act[0][0]']    \n",
            " 2D)                                                                                              \n",
            "                                                                                                  \n",
            " block6_sepconv1_bn (BatchNorma  (None, 19, 19, 728)  2912       ['block6_sepconv1[0][0]']        \n",
            " lization)                                                                                        \n",
            "                                                                                                  \n",
            " block6_sepconv2_act (Activatio  (None, 19, 19, 728)  0          ['block6_sepconv1_bn[0][0]']     \n",
            " n)                                                                                               \n",
            "                                                                                                  \n",
            " block6_sepconv2 (SeparableConv  (None, 19, 19, 728)  536536     ['block6_sepconv2_act[0][0]']    \n",
            " 2D)                                                                                              \n",
            "                                                                                                  \n",
            " block6_sepconv2_bn (BatchNorma  (None, 19, 19, 728)  2912       ['block6_sepconv2[0][0]']        \n",
            " lization)                                                                                        \n",
            "                                                                                                  \n",
            " block6_sepconv3_act (Activatio  (None, 19, 19, 728)  0          ['block6_sepconv2_bn[0][0]']     \n",
            " n)                                                                                               \n",
            "                                                                                                  \n",
            " block6_sepconv3 (SeparableConv  (None, 19, 19, 728)  536536     ['block6_sepconv3_act[0][0]']    \n",
            " 2D)                                                                                              \n",
            "                                                                                                  \n",
            " block6_sepconv3_bn (BatchNorma  (None, 19, 19, 728)  2912       ['block6_sepconv3[0][0]']        \n",
            " lization)                                                                                        \n",
            "                                                                                                  \n",
            " add_28 (Add)                   (None, 19, 19, 728)  0           ['block6_sepconv3_bn[0][0]',     \n",
            "                                                                  'add_27[0][0]']                 \n",
            "                                                                                                  \n",
            " block7_sepconv1_act (Activatio  (None, 19, 19, 728)  0          ['add_28[0][0]']                 \n",
            " n)                                                                                               \n",
            "                                                                                                  \n",
            " block7_sepconv1 (SeparableConv  (None, 19, 19, 728)  536536     ['block7_sepconv1_act[0][0]']    \n",
            " 2D)                                                                                              \n",
            "                                                                                                  \n",
            " block7_sepconv1_bn (BatchNorma  (None, 19, 19, 728)  2912       ['block7_sepconv1[0][0]']        \n",
            " lization)                                                                                        \n",
            "                                                                                                  \n",
            " block7_sepconv2_act (Activatio  (None, 19, 19, 728)  0          ['block7_sepconv1_bn[0][0]']     \n",
            " n)                                                                                               \n",
            "                                                                                                  \n",
            " block7_sepconv2 (SeparableConv  (None, 19, 19, 728)  536536     ['block7_sepconv2_act[0][0]']    \n",
            " 2D)                                                                                              \n",
            "                                                                                                  \n",
            " block7_sepconv2_bn (BatchNorma  (None, 19, 19, 728)  2912       ['block7_sepconv2[0][0]']        \n",
            " lization)                                                                                        \n",
            "                                                                                                  \n",
            " block7_sepconv3_act (Activatio  (None, 19, 19, 728)  0          ['block7_sepconv2_bn[0][0]']     \n",
            " n)                                                                                               \n",
            "                                                                                                  \n",
            " block7_sepconv3 (SeparableConv  (None, 19, 19, 728)  536536     ['block7_sepconv3_act[0][0]']    \n",
            " 2D)                                                                                              \n",
            "                                                                                                  \n",
            " block7_sepconv3_bn (BatchNorma  (None, 19, 19, 728)  2912       ['block7_sepconv3[0][0]']        \n",
            " lization)                                                                                        \n",
            "                                                                                                  \n",
            " add_29 (Add)                   (None, 19, 19, 728)  0           ['block7_sepconv3_bn[0][0]',     \n",
            "                                                                  'add_28[0][0]']                 \n",
            "                                                                                                  \n",
            " block8_sepconv1_act (Activatio  (None, 19, 19, 728)  0          ['add_29[0][0]']                 \n",
            " n)                                                                                               \n",
            "                                                                                                  \n",
            " block8_sepconv1 (SeparableConv  (None, 19, 19, 728)  536536     ['block8_sepconv1_act[0][0]']    \n",
            " 2D)                                                                                              \n",
            "                                                                                                  \n",
            " block8_sepconv1_bn (BatchNorma  (None, 19, 19, 728)  2912       ['block8_sepconv1[0][0]']        \n",
            " lization)                                                                                        \n",
            "                                                                                                  \n",
            " block8_sepconv2_act (Activatio  (None, 19, 19, 728)  0          ['block8_sepconv1_bn[0][0]']     \n",
            " n)                                                                                               \n",
            "                                                                                                  \n",
            " block8_sepconv2 (SeparableConv  (None, 19, 19, 728)  536536     ['block8_sepconv2_act[0][0]']    \n",
            " 2D)                                                                                              \n",
            "                                                                                                  \n",
            " block8_sepconv2_bn (BatchNorma  (None, 19, 19, 728)  2912       ['block8_sepconv2[0][0]']        \n",
            " lization)                                                                                        \n",
            "                                                                                                  \n",
            " block8_sepconv3_act (Activatio  (None, 19, 19, 728)  0          ['block8_sepconv2_bn[0][0]']     \n",
            " n)                                                                                               \n",
            "                                                                                                  \n",
            " block8_sepconv3 (SeparableConv  (None, 19, 19, 728)  536536     ['block8_sepconv3_act[0][0]']    \n",
            " 2D)                                                                                              \n",
            "                                                                                                  \n",
            " block8_sepconv3_bn (BatchNorma  (None, 19, 19, 728)  2912       ['block8_sepconv3[0][0]']        \n",
            " lization)                                                                                        \n",
            "                                                                                                  \n",
            " add_30 (Add)                   (None, 19, 19, 728)  0           ['block8_sepconv3_bn[0][0]',     \n",
            "                                                                  'add_29[0][0]']                 \n",
            "                                                                                                  \n",
            " block9_sepconv1_act (Activatio  (None, 19, 19, 728)  0          ['add_30[0][0]']                 \n",
            " n)                                                                                               \n",
            "                                                                                                  \n",
            " block9_sepconv1 (SeparableConv  (None, 19, 19, 728)  536536     ['block9_sepconv1_act[0][0]']    \n",
            " 2D)                                                                                              \n",
            "                                                                                                  \n",
            " block9_sepconv1_bn (BatchNorma  (None, 19, 19, 728)  2912       ['block9_sepconv1[0][0]']        \n",
            " lization)                                                                                        \n",
            "                                                                                                  \n",
            " block9_sepconv2_act (Activatio  (None, 19, 19, 728)  0          ['block9_sepconv1_bn[0][0]']     \n",
            " n)                                                                                               \n",
            "                                                                                                  \n",
            " block9_sepconv2 (SeparableConv  (None, 19, 19, 728)  536536     ['block9_sepconv2_act[0][0]']    \n",
            " 2D)                                                                                              \n",
            "                                                                                                  \n",
            " block9_sepconv2_bn (BatchNorma  (None, 19, 19, 728)  2912       ['block9_sepconv2[0][0]']        \n",
            " lization)                                                                                        \n",
            "                                                                                                  \n",
            " block9_sepconv3_act (Activatio  (None, 19, 19, 728)  0          ['block9_sepconv2_bn[0][0]']     \n",
            " n)                                                                                               \n",
            "                                                                                                  \n",
            " block9_sepconv3 (SeparableConv  (None, 19, 19, 728)  536536     ['block9_sepconv3_act[0][0]']    \n",
            " 2D)                                                                                              \n",
            "                                                                                                  \n",
            " block9_sepconv3_bn (BatchNorma  (None, 19, 19, 728)  2912       ['block9_sepconv3[0][0]']        \n",
            " lization)                                                                                        \n",
            "                                                                                                  \n",
            " add_31 (Add)                   (None, 19, 19, 728)  0           ['block9_sepconv3_bn[0][0]',     \n",
            "                                                                  'add_30[0][0]']                 \n",
            "                                                                                                  \n",
            " block10_sepconv1_act (Activati  (None, 19, 19, 728)  0          ['add_31[0][0]']                 \n",
            " on)                                                                                              \n",
            "                                                                                                  \n",
            " block10_sepconv1 (SeparableCon  (None, 19, 19, 728)  536536     ['block10_sepconv1_act[0][0]']   \n",
            " v2D)                                                                                             \n",
            "                                                                                                  \n",
            " block10_sepconv1_bn (BatchNorm  (None, 19, 19, 728)  2912       ['block10_sepconv1[0][0]']       \n",
            " alization)                                                                                       \n",
            "                                                                                                  \n",
            " block10_sepconv2_act (Activati  (None, 19, 19, 728)  0          ['block10_sepconv1_bn[0][0]']    \n",
            " on)                                                                                              \n",
            "                                                                                                  \n",
            " block10_sepconv2 (SeparableCon  (None, 19, 19, 728)  536536     ['block10_sepconv2_act[0][0]']   \n",
            " v2D)                                                                                             \n",
            "                                                                                                  \n",
            " block10_sepconv2_bn (BatchNorm  (None, 19, 19, 728)  2912       ['block10_sepconv2[0][0]']       \n",
            " alization)                                                                                       \n",
            "                                                                                                  \n",
            " block10_sepconv3_act (Activati  (None, 19, 19, 728)  0          ['block10_sepconv2_bn[0][0]']    \n",
            " on)                                                                                              \n",
            "                                                                                                  \n",
            " block10_sepconv3 (SeparableCon  (None, 19, 19, 728)  536536     ['block10_sepconv3_act[0][0]']   \n",
            " v2D)                                                                                             \n",
            "                                                                                                  \n",
            " block10_sepconv3_bn (BatchNorm  (None, 19, 19, 728)  2912       ['block10_sepconv3[0][0]']       \n",
            " alization)                                                                                       \n",
            "                                                                                                  \n",
            " add_32 (Add)                   (None, 19, 19, 728)  0           ['block10_sepconv3_bn[0][0]',    \n",
            "                                                                  'add_31[0][0]']                 \n",
            "                                                                                                  \n",
            " block11_sepconv1_act (Activati  (None, 19, 19, 728)  0          ['add_32[0][0]']                 \n",
            " on)                                                                                              \n",
            "                                                                                                  \n",
            " block11_sepconv1 (SeparableCon  (None, 19, 19, 728)  536536     ['block11_sepconv1_act[0][0]']   \n",
            " v2D)                                                                                             \n",
            "                                                                                                  \n",
            " block11_sepconv1_bn (BatchNorm  (None, 19, 19, 728)  2912       ['block11_sepconv1[0][0]']       \n",
            " alization)                                                                                       \n",
            "                                                                                                  \n",
            " block11_sepconv2_act (Activati  (None, 19, 19, 728)  0          ['block11_sepconv1_bn[0][0]']    \n",
            " on)                                                                                              \n",
            "                                                                                                  \n",
            " block11_sepconv2 (SeparableCon  (None, 19, 19, 728)  536536     ['block11_sepconv2_act[0][0]']   \n",
            " v2D)                                                                                             \n",
            "                                                                                                  \n",
            " block11_sepconv2_bn (BatchNorm  (None, 19, 19, 728)  2912       ['block11_sepconv2[0][0]']       \n",
            " alization)                                                                                       \n",
            "                                                                                                  \n",
            " block11_sepconv3_act (Activati  (None, 19, 19, 728)  0          ['block11_sepconv2_bn[0][0]']    \n",
            " on)                                                                                              \n",
            "                                                                                                  \n",
            " block11_sepconv3 (SeparableCon  (None, 19, 19, 728)  536536     ['block11_sepconv3_act[0][0]']   \n",
            " v2D)                                                                                             \n",
            "                                                                                                  \n",
            " block11_sepconv3_bn (BatchNorm  (None, 19, 19, 728)  2912       ['block11_sepconv3[0][0]']       \n",
            " alization)                                                                                       \n",
            "                                                                                                  \n",
            " add_33 (Add)                   (None, 19, 19, 728)  0           ['block11_sepconv3_bn[0][0]',    \n",
            "                                                                  'add_32[0][0]']                 \n",
            "                                                                                                  \n",
            " block12_sepconv1_act (Activati  (None, 19, 19, 728)  0          ['add_33[0][0]']                 \n",
            " on)                                                                                              \n",
            "                                                                                                  \n",
            " block12_sepconv1 (SeparableCon  (None, 19, 19, 728)  536536     ['block12_sepconv1_act[0][0]']   \n",
            " v2D)                                                                                             \n",
            "                                                                                                  \n",
            " block12_sepconv1_bn (BatchNorm  (None, 19, 19, 728)  2912       ['block12_sepconv1[0][0]']       \n",
            " alization)                                                                                       \n",
            "                                                                                                  \n",
            " block12_sepconv2_act (Activati  (None, 19, 19, 728)  0          ['block12_sepconv1_bn[0][0]']    \n",
            " on)                                                                                              \n",
            "                                                                                                  \n",
            " block12_sepconv2 (SeparableCon  (None, 19, 19, 728)  536536     ['block12_sepconv2_act[0][0]']   \n",
            " v2D)                                                                                             \n",
            "                                                                                                  \n",
            " block12_sepconv2_bn (BatchNorm  (None, 19, 19, 728)  2912       ['block12_sepconv2[0][0]']       \n",
            " alization)                                                                                       \n",
            "                                                                                                  \n",
            " block12_sepconv3_act (Activati  (None, 19, 19, 728)  0          ['block12_sepconv2_bn[0][0]']    \n",
            " on)                                                                                              \n",
            "                                                                                                  \n",
            " block12_sepconv3 (SeparableCon  (None, 19, 19, 728)  536536     ['block12_sepconv3_act[0][0]']   \n",
            " v2D)                                                                                             \n",
            "                                                                                                  \n",
            " block12_sepconv3_bn (BatchNorm  (None, 19, 19, 728)  2912       ['block12_sepconv3[0][0]']       \n",
            " alization)                                                                                       \n",
            "                                                                                                  \n",
            " add_34 (Add)                   (None, 19, 19, 728)  0           ['block12_sepconv3_bn[0][0]',    \n",
            "                                                                  'add_33[0][0]']                 \n",
            "                                                                                                  \n",
            " block13_sepconv1_act (Activati  (None, 19, 19, 728)  0          ['add_34[0][0]']                 \n",
            " on)                                                                                              \n",
            "                                                                                                  \n",
            " block13_sepconv1 (SeparableCon  (None, 19, 19, 728)  536536     ['block13_sepconv1_act[0][0]']   \n",
            " v2D)                                                                                             \n",
            "                                                                                                  \n",
            " block13_sepconv1_bn (BatchNorm  (None, 19, 19, 728)  2912       ['block13_sepconv1[0][0]']       \n",
            " alization)                                                                                       \n",
            "                                                                                                  \n",
            " block13_sepconv2_act (Activati  (None, 19, 19, 728)  0          ['block13_sepconv1_bn[0][0]']    \n",
            " on)                                                                                              \n",
            "                                                                                                  \n",
            " block13_sepconv2 (SeparableCon  (None, 19, 19, 1024  752024     ['block13_sepconv2_act[0][0]']   \n",
            " v2D)                           )                                                                 \n",
            "                                                                                                  \n",
            " block13_sepconv2_bn (BatchNorm  (None, 19, 19, 1024  4096       ['block13_sepconv2[0][0]']       \n",
            " alization)                     )                                                                 \n",
            "                                                                                                  \n",
            " conv2d_11 (Conv2D)             (None, 10, 10, 1024  745472      ['add_34[0][0]']                 \n",
            "                                )                                                                 \n",
            "                                                                                                  \n",
            " block13_pool (MaxPooling2D)    (None, 10, 10, 1024  0           ['block13_sepconv2_bn[0][0]']    \n",
            "                                )                                                                 \n",
            "                                                                                                  \n",
            " batch_normalization_11 (BatchN  (None, 10, 10, 1024  4096       ['conv2d_11[0][0]']              \n",
            " ormalization)                  )                                                                 \n",
            "                                                                                                  \n",
            " add_35 (Add)                   (None, 10, 10, 1024  0           ['block13_pool[0][0]',           \n",
            "                                )                                 'batch_normalization_11[0][0]'] \n",
            "                                                                                                  \n",
            " block14_sepconv1 (SeparableCon  (None, 10, 10, 1536  1582080    ['add_35[0][0]']                 \n",
            " v2D)                           )                                                                 \n",
            "                                                                                                  \n",
            " block14_sepconv1_bn (BatchNorm  (None, 10, 10, 1536  6144       ['block14_sepconv1[0][0]']       \n",
            " alization)                     )                                                                 \n",
            "                                                                                                  \n",
            " block14_sepconv1_act (Activati  (None, 10, 10, 1536  0          ['block14_sepconv1_bn[0][0]']    \n",
            " on)                            )                                                                 \n",
            "                                                                                                  \n",
            " block14_sepconv2 (SeparableCon  (None, 10, 10, 2048  3159552    ['block14_sepconv1_act[0][0]']   \n",
            " v2D)                           )                                                                 \n",
            "                                                                                                  \n",
            " block14_sepconv2_bn (BatchNorm  (None, 10, 10, 2048  8192       ['block14_sepconv2[0][0]']       \n",
            " alization)                     )                                                                 \n",
            "                                                                                                  \n",
            " block14_sepconv2_act (Activati  (None, 10, 10, 2048  0          ['block14_sepconv2_bn[0][0]']    \n",
            " on)                            )                                                                 \n",
            "                                                                                                  \n",
            "==================================================================================================\n",
            "Total params: 20,861,480\n",
            "Trainable params: 20,806,952\n",
            "Non-trainable params: 54,528\n",
            "__________________________________________________________________________________________________\n"
          ]
        }
      ],
      "source": [
        "xception = Xception(weights='imagenet', include_top=False, input_shape=(299,299,3))\n",
        "output = xception.layers[-1].output\n",
        "output = tf.keras.layers.Flatten()(output)\n",
        "xceptionmodel=Model(xception.input,output)\n",
        "for layers in (xceptionmodel.layers):\n",
        "    print(layers)\n",
        "    layers.trainable = True\n",
        "xception.summary()"
      ]
    },
    {
      "cell_type": "code",
      "execution_count": 29,
      "metadata": {
        "id": "UNPsU1mqG2JN"
      },
      "outputs": [],
      "source": [
        "from tensorflow.keras.models import Sequential\n",
        "from tensorflow.keras.layers import Dense\n",
        "from keras.layers import Dropout\n",
        "\n",
        "model = Sequential()\n",
        "model.add(xceptionmodel)\n",
        "model.add(Dropout(0.2))\n",
        "model.add(Dense(4, activation='softmax'))\n",
        "model.compile(optimizer = tf.keras.optimizers.Adam(learning_rate=0.001), \n",
        "              loss = 'categorical_crossentropy',\n",
        "              metrics = ['accuracy'])"
      ]
    },
    {
      "cell_type": "code",
      "execution_count": 23,
      "metadata": {
        "colab": {
          "base_uri": "https://localhost:8080/",
          "height": 243
        },
        "id": "KVRuuv7IvDEW",
        "outputId": "ba45aed7-704c-4095-f536-b91b669ff635"
      },
      "outputs": [
        {
          "output_type": "error",
          "ename": "NameError",
          "evalue": "ignored",
          "traceback": [
            "\u001b[0;31m---------------------------------------------------------------------------\u001b[0m",
            "\u001b[0;31mNameError\u001b[0m                                 Traceback (most recent call last)",
            "\u001b[0;32m<ipython-input-23-e274aca028fb>\u001b[0m in \u001b[0;36m<module>\u001b[0;34m()\u001b[0m\n\u001b[0;32m----> 1\u001b[0;31m pre_trained_model = InceptionV3(input_shape = (150, 150, 3),\n\u001b[0m\u001b[1;32m      2\u001b[0m                                 \u001b[0minclude_top\u001b[0m \u001b[0;34m=\u001b[0m \u001b[0;32mFalse\u001b[0m\u001b[0;34m,\u001b[0m\u001b[0;34m\u001b[0m\u001b[0;34m\u001b[0m\u001b[0m\n\u001b[1;32m      3\u001b[0m                                 weights = None)\n\u001b[1;32m      4\u001b[0m \u001b[0;31m# Make all the layers in the pre-trained model non-trainable\u001b[0m\u001b[0;34m\u001b[0m\u001b[0;34m\u001b[0m\u001b[0;34m\u001b[0m\u001b[0m\n\u001b[1;32m      5\u001b[0m \u001b[0;32mfor\u001b[0m \u001b[0mlayer\u001b[0m \u001b[0;32min\u001b[0m \u001b[0mpre_trained_model\u001b[0m\u001b[0;34m.\u001b[0m\u001b[0mlayers\u001b[0m\u001b[0;34m:\u001b[0m\u001b[0;34m\u001b[0m\u001b[0;34m\u001b[0m\u001b[0m\n",
            "\u001b[0;31mNameError\u001b[0m: name 'InceptionV3' is not defined"
          ]
        }
      ],
      "source": [
        "# pre_trained_model = InceptionV3(input_shape = (150, 150, 3),\n",
        "#                                 include_top = False, \n",
        "#                                 weights = None)\n",
        "# # Make all the layers in the pre-trained model non-trainable\n",
        "# for layer in pre_trained_model.layers:\n",
        "#   layer.trainable = False\n",
        "\n",
        "# # Print out the pretrained model summary\n",
        "# pre_trained_model.summary()"
      ]
    },
    {
      "cell_type": "code",
      "execution_count": 30,
      "metadata": {
        "id": "XGw4PR2FviO5"
      },
      "outputs": [],
      "source": [
        "# Define a Callback class that stops training once accuracy reaches 99.9%\n",
        "class myCallback(tf.keras.callbacks.Callback):\n",
        "  def on_epoch_end(self, epoch, logs={}):\n",
        "    if(logs.get('accuracy')>0.999):\n",
        "      print(\"\\nReached 99.9% accuracy so cancelling training!\")\n",
        "      self.model.stop_training = True"
      ]
    },
    {
      "cell_type": "code",
      "execution_count": null,
      "metadata": {
        "colab": {
          "base_uri": "https://localhost:8080/"
        },
        "id": "14wkge7Fvma8",
        "outputId": "5e231b90-1a8b-446b-dc7c-8ecf68bc56ce"
      },
      "outputs": [
        {
          "name": "stdout",
          "output_type": "stream",
          "text": [
            "last layer output shape:  (None, 7, 7, 768)\n",
            "last layer output:  KerasTensor(type_spec=TensorSpec(shape=(None, 7, 7, 768), dtype=tf.float32, name=None), name='mixed7/concat:0', description=\"created by layer 'mixed7'\")\n"
          ]
        }
      ],
      "source": [
        "# Define the desired layer of pretrained model\n",
        "# desired_layer = pre_trained_model.get_layer('mixed7')\n",
        "# print('last layer output shape: ', desired_layer.output_shape)\n",
        "# last_output = desired_layer.output\n",
        "# print('last layer output: ', last_output)"
      ]
    },
    {
      "cell_type": "code",
      "execution_count": null,
      "metadata": {
        "colab": {
          "base_uri": "https://localhost:8080/"
        },
        "id": "7bMVBngEwNLK",
        "outputId": "d6568e1b-c7b7-44cb-eecb-b7075278c3c8"
      },
      "outputs": [
        {
          "name": "stdout",
          "output_type": "stream",
          "text": [
            "The pretrained model has type: <class 'keras.engine.functional.Functional'>\n"
          ]
        }
      ],
      "source": [
        "# Print the type of the pre-trained model\n",
        "print(f\"The pretrained model has type: {type(pre_trained_model)}\")"
      ]
    },
    {
      "cell_type": "code",
      "execution_count": null,
      "metadata": {
        "id": "MwPvd2IcxjSv"
      },
      "outputs": [],
      "source": [
        "# from tensorflow.keras.models import Sequential\n",
        "# from tensorflow.keras.optimizers import SGD"
      ]
    },
    {
      "cell_type": "code",
      "execution_count": null,
      "metadata": {
        "id": "SsbXeIoGwkIq"
      },
      "outputs": [],
      "source": [
        "# def create_final_model(pre_trained_model, last_output):\n",
        "#   # Flatten the output layer to 1 dimension\n",
        "#   x = layers.Flatten()(last_output)\n",
        "\n",
        "#   ### START CODE HERE\n",
        "\n",
        "#   # Add a fully connected layer with 1024 hidden units and ReLU activation\n",
        "#   x = layers.Dense(1024, activation='relu')(x)\n",
        "#   # Add a dropout rate of 0.2\n",
        "#   x = layers.Dropout(0.2)(x)\n",
        "#   # Add a final sigmoid layer for classification\n",
        "#   x = layers.Dense(1, activation='sigmoid')(x)        \n",
        "\n",
        "#   # Create the complete model by using the Model class\n",
        "#   model = Model(inputs=pre_trained_model.input, outputs=x)\n",
        "\n",
        "#   # Compile the model\n",
        "#   model.compile(optimizer = tf.keras.optimizers.Adam(learning_rate=0.001), \n",
        "#                 loss = 'categorical_crossentropy',\n",
        "#                 metrics = ['accuracy'])\n",
        "\n",
        "#   ### END CODE HERE\n",
        "  \n",
        "#   return model"
      ]
    },
    {
      "cell_type": "code",
      "execution_count": null,
      "metadata": {
        "colab": {
          "base_uri": "https://localhost:8080/"
        },
        "id": "nTVdx6ex1EDr",
        "outputId": "68cc96f1-eec1-4bfb-af1b-eadcdc99b724"
      },
      "outputs": [
        {
          "output_type": "stream",
          "name": "stdout",
          "text": [
            "Epoch 1/20\n",
            "  6/302 [..............................] - ETA: 5:44 - loss: 4.5023 - accuracy: 0.3177WARNING:tensorflow:Callback method `on_train_batch_end` is slow compared to the batch time (batch time: 0.4077s vs `on_train_batch_end` time: 0.7522s). Check your callbacks.\n",
            "302/302 [==============================] - 396s 1s/step - loss: 1.1098 - accuracy: 0.5352 - val_loss: 3.1123 - val_accuracy: 0.4878\n",
            "Epoch 2/20\n",
            "302/302 [==============================] - 396s 1s/step - loss: 0.6114 - accuracy: 0.7788 - val_loss: 0.6469 - val_accuracy: 0.7480\n",
            "Epoch 3/20\n",
            "302/302 [==============================] - 396s 1s/step - loss: 0.4404 - accuracy: 0.8314 - val_loss: 0.6567 - val_accuracy: 0.7037\n",
            "Epoch 4/20\n",
            "302/302 [==============================] - 395s 1s/step - loss: 0.5160 - accuracy: 0.8265 - val_loss: 0.5043 - val_accuracy: 0.7522\n",
            "Epoch 5/20\n",
            "302/302 [==============================] - 395s 1s/step - loss: 0.4292 - accuracy: 0.8511 - val_loss: 0.9568 - val_accuracy: 0.7281\n",
            "Epoch 6/20\n",
            "302/302 [==============================] - 397s 1s/step - loss: 0.8168 - accuracy: 0.7855 - val_loss: 1.6656 - val_accuracy: 0.6138\n",
            "Epoch 7/20\n",
            "302/302 [==============================] - 395s 1s/step - loss: 0.5317 - accuracy: 0.8279 - val_loss: 1.5705 - val_accuracy: 0.6643\n",
            "Epoch 8/20\n",
            "302/302 [==============================] - 396s 1s/step - loss: 0.4107 - accuracy: 0.8531 - val_loss: 0.3890 - val_accuracy: 0.8492\n",
            "Epoch 9/20\n",
            "302/302 [==============================] - 395s 1s/step - loss: 0.3598 - accuracy: 0.8668 - val_loss: 0.3798 - val_accuracy: 0.8442\n",
            "Epoch 10/20\n",
            "302/302 [==============================] - 403s 1s/step - loss: 0.3232 - accuracy: 0.8760 - val_loss: 0.5425 - val_accuracy: 0.8280\n",
            "Epoch 11/20\n",
            "302/302 [==============================] - 401s 1s/step - loss: 0.3361 - accuracy: 0.8726 - val_loss: 566.8541 - val_accuracy: 0.4890\n",
            "Epoch 12/20\n",
            "302/302 [==============================] - 407s 1s/step - loss: 0.6576 - accuracy: 0.8186 - val_loss: 1.2483 - val_accuracy: 0.5238\n",
            "Epoch 13/20\n",
            "302/302 [==============================] - 402s 1s/step - loss: 0.4212 - accuracy: 0.8520 - val_loss: 0.6395 - val_accuracy: 0.7754\n",
            "Epoch 14/20\n",
            " 64/302 [=====>........................] - ETA: 4:49 - loss: 0.3839 - accuracy: 0.8677"
          ]
        }
      ],
      "source": [
        "callbacks = myCallback()\n",
        "history = model.fit(train_generator,\n",
        "                    validation_data = validation_generator, \n",
        "                    epochs = 20,\n",
        "                    callbacks=callbacks)"
      ]
    },
    {
      "cell_type": "code",
      "source": [
        "# Plot the chart for accuracy and loss on both training and validation\n",
        "acc = history.history['accuracy']\n",
        "val_acc = history.history['val_accuracy']\n",
        "loss = history.history['loss']\n",
        "val_loss = history.history['val_loss']\n",
        "\n",
        "epochs = range(len(acc))\n",
        "\n",
        "plt.plot(epochs, acc, 'r', label='Training accuracy')\n",
        "plt.plot(epochs, val_acc, 'b', label='Validation accuracy')\n",
        "plt.title('Training and validation accuracy')\n",
        "plt.legend()\n",
        "plt.figure()\n",
        "\n",
        "plt.plot(epochs, loss, 'r', label='Training Loss')\n",
        "plt.plot(epochs, val_loss, 'b', label='Validation Loss')\n",
        "plt.title('Training and validation loss')\n",
        "plt.legend()\n",
        "\n",
        "plt.show()"
      ],
      "metadata": {
        "id": "m_7_oR3wYCxw"
      },
      "execution_count": null,
      "outputs": []
    }
  ],
  "metadata": {
    "accelerator": "GPU",
    "colab": {
      "collapsed_sections": [],
      "name": "Capstone-1.ipynb",
      "provenance": []
    },
    "kernelspec": {
      "display_name": "Python 3",
      "name": "python3"
    },
    "language_info": {
      "name": "python"
    }
  },
  "nbformat": 4,
  "nbformat_minor": 0
}